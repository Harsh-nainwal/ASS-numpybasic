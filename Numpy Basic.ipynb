{
 "cells": [
  {
   "cell_type": "markdown",
   "id": "6f53b17a-4d98-4f57-a070-2d522cc04fe0",
   "metadata": {},
   "source": [
    "import numpy as np\n",
    "list_ = [ ‘1’ , ’2’ , ‘3’ , ‘4’ , ‘5’ ]\n",
    "array_list = np.array(object = list_)\n",
    "\n",
    "Q1. Is there any difference in the data type of variables list_ and array_list? If there is then write a code\n",
    "to print the data types of both the variables.\n",
    "\n",
    "Ans ;- yes there is diffrence in the data type of variables list_ and array_list"
   ]
  },
  {
   "cell_type": "code",
   "execution_count": 4,
   "id": "a34f5f17-bd39-47e3-a29d-f272b1508630",
   "metadata": {},
   "outputs": [
    {
     "name": "stdout",
     "output_type": "stream",
     "text": [
      "<class 'list'>\n",
      "<class 'numpy.ndarray'>\n"
     ]
    }
   ],
   "source": [
    "import numpy as np\n",
    "list_ = ['1', '2', '3', '4', '5']\n",
    "array_list = np.array(object = list_)\n",
    "print(type(list_))\n",
    "print(type(array_list))"
   ]
  },
  {
   "cell_type": "markdown",
   "id": "cf5b9f5b-1a63-4869-b217-fab4d8657178",
   "metadata": {},
   "source": [
    "Q2. Write a code to print the data type of each and every element of both the variables list_ and\n",
    "arra_list."
   ]
  },
  {
   "cell_type": "code",
   "execution_count": 7,
   "id": "897e00f6-7bc2-49e0-9026-3e924afe3fb8",
   "metadata": {},
   "outputs": [
    {
     "name": "stdout",
     "output_type": "stream",
     "text": [
      "1\n",
      "2\n",
      "3\n",
      "4\n",
      "5\n",
      " \n",
      "1\n",
      "2\n",
      "3\n",
      "4\n",
      "5\n"
     ]
    }
   ],
   "source": [
    "for i in list_:\n",
    "    print(i)\n",
    "print(\" \")\n",
    "for i in array_list:\n",
    "    print(i)"
   ]
  },
  {
   "cell_type": "markdown",
   "id": "931341b3-5585-479b-abf4-1e65924987af",
   "metadata": {},
   "source": [
    "Q3. Considering the following changes in the variable, array_list:\n",
    "array_list = np.array(object = list_, dtype = int)\n",
    "\n",
    "Will there be any difference in the data type of the elements present in both the variables, list_ and\n",
    "arra_list? If so then print the data types of each and every element present in both the variables, list_\n",
    "and arra_list."
   ]
  },
  {
   "cell_type": "code",
   "execution_count": 13,
   "id": "d061d935-b589-473c-aad6-b34e3a481aa3",
   "metadata": {},
   "outputs": [
    {
     "name": "stdout",
     "output_type": "stream",
     "text": [
      "<class 'numpy.ndarray'>\n",
      "<class 'numpy.int64'>\n"
     ]
    }
   ],
   "source": [
    "array_list = np.array(object = list_, dtype = int)\n",
    "print(type(array_list))\n",
    "print(type(array_list[0]))\n",
    "# yes  there is a difference in the data type of the elements present in both the variables"
   ]
  },
  {
   "cell_type": "code",
   "execution_count": 14,
   "id": "9c29ae3d-6d0d-48b1-aaf2-7920aa9dbf03",
   "metadata": {},
   "outputs": [],
   "source": [
    "import numpy as np\n",
    "num_list = [ [ 1 , 2 , 3 ] , [ 4 , 5 , 6 ] ]\n",
    "num_array = np.array(object = num_list)"
   ]
  },
  {
   "cell_type": "markdown",
   "id": "e4c3a29a-0cfd-4eb3-9b3c-d584b9455fd4",
   "metadata": {},
   "source": [
    "Q4. Write a code to find the following characteristics of variable, num_array:"
   ]
  },
  {
   "cell_type": "code",
   "execution_count": 15,
   "id": "c5c988c0-2f26-4655-b145-5ebe0e00e7ab",
   "metadata": {},
   "outputs": [
    {
     "data": {
      "text/plain": [
       "(2, 3)"
      ]
     },
     "execution_count": 15,
     "metadata": {},
     "output_type": "execute_result"
    }
   ],
   "source": [
    "num_array.shape"
   ]
  },
  {
   "cell_type": "code",
   "execution_count": 16,
   "id": "be0d5e6d-e777-4a62-85f8-3a602deb194b",
   "metadata": {},
   "outputs": [
    {
     "data": {
      "text/plain": [
       "6"
      ]
     },
     "execution_count": 16,
     "metadata": {},
     "output_type": "execute_result"
    }
   ],
   "source": [
    "num_array.size"
   ]
  },
  {
   "cell_type": "markdown",
   "id": "b4684da2-e5fe-4953-bfd0-8124f40c784d",
   "metadata": {},
   "source": [
    "Q5. Write a code to create numpy array of 3*3 matrix containing zeros only, using a numpy array\n",
    "creation function."
   ]
  },
  {
   "cell_type": "code",
   "execution_count": 21,
   "id": "7b19350c-7d3d-4355-b5c5-3d32bb1f4611",
   "metadata": {},
   "outputs": [],
   "source": [
    "array_matrix=np.random.randint(0,1,(3,3))"
   ]
  },
  {
   "cell_type": "code",
   "execution_count": 22,
   "id": "989295c0-0be7-4697-9d7f-2f160a6a4c5e",
   "metadata": {},
   "outputs": [
    {
     "name": "stdout",
     "output_type": "stream",
     "text": [
      "[[0 0 0]\n",
      " [0 0 0]\n",
      " [0 0 0]]\n"
     ]
    }
   ],
   "source": [
    "print(array_matrix)"
   ]
  },
  {
   "cell_type": "code",
   "execution_count": null,
   "id": "85323c16-61e4-4a7d-9efe-7e2ffd9e157c",
   "metadata": {},
   "outputs": [],
   "source": []
  }
 ],
 "metadata": {
  "kernelspec": {
   "display_name": "Python 3 (ipykernel)",
   "language": "python",
   "name": "python3"
  },
  "language_info": {
   "codemirror_mode": {
    "name": "ipython",
    "version": 3
   },
   "file_extension": ".py",
   "mimetype": "text/x-python",
   "name": "python",
   "nbconvert_exporter": "python",
   "pygments_lexer": "ipython3",
   "version": "3.10.8"
  }
 },
 "nbformat": 4,
 "nbformat_minor": 5
}
